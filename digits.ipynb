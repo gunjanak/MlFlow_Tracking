{
 "cells": [
  {
   "cell_type": "code",
   "execution_count": 3,
   "metadata": {},
   "outputs": [],
   "source": [
    "import mlflow\n",
    "import mlflow.sklearn\n",
    "import numpy as np\n",
    "import matplotlib.pyplot as plt\n",
    "import seaborn as sns\n",
    "from sklearn import datasets\n",
    "from sklearn.model_selection import train_test_split\n",
    "from sklearn.preprocessing import StandardScaler\n",
    "from sklearn.svm import SVC\n",
    "from sklearn.metrics import accuracy_score, f1_score, confusion_matrix\n",
    "import itertools\n",
    "import joblib"
   ]
  },
  {
   "cell_type": "code",
   "execution_count": 4,
   "metadata": {},
   "outputs": [],
   "source": [
    "# Load the Digits dataset\n",
    "digits = datasets.load_digits()\n",
    "X, y = digits.data, digits.target\n",
    "\n",
    "# Split the data\n",
    "X_train, X_test, y_train, y_test = train_test_split(X, y, test_size=0.2, random_state=42)\n",
    "\n",
    "# Scale the data\n",
    "scaler = StandardScaler()\n",
    "X_train = scaler.fit_transform(X_train)\n",
    "X_test = scaler.transform(X_test)"
   ]
  },
  {
   "cell_type": "code",
   "execution_count": 5,
   "metadata": {},
   "outputs": [],
   "source": [
    "# Hyperparameters to test\n",
    "C_values = [0.1, 1, 10]\n",
    "gamma_values = [0.01, 0.1, 1]"
   ]
  },
  {
   "cell_type": "code",
   "execution_count": 6,
   "metadata": {},
   "outputs": [
    {
     "name": "stderr",
     "output_type": "stream",
     "text": [
      "2025/03/03 10:52:04 INFO mlflow.tracking.fluent: Experiment with name 'Digits_SVM_Tracking' does not exist. Creating a new experiment.\n"
     ]
    },
    {
     "data": {
      "text/plain": [
       "<Experiment: artifact_location='file:///home/janak/Documents/Mlflow_Blog/MlFlow_Tracking/mlruns/486826793273855203', creation_time=1740978424533, experiment_id='486826793273855203', last_update_time=1740978424533, lifecycle_stage='active', name='Digits_SVM_Tracking', tags={}>"
      ]
     },
     "execution_count": 6,
     "metadata": {},
     "output_type": "execute_result"
    }
   ],
   "source": [
    "best_f1 = 0\n",
    "best_model = None\n",
    "best_params = {}\n",
    "\n",
    "accuracies = []\n",
    "f1_scores = []\n",
    "configs = []\n",
    "\n",
    "mlflow.set_experiment(\"Digits_SVM_Tracking\")"
   ]
  },
  {
   "cell_type": "code",
   "execution_count": 7,
   "metadata": {},
   "outputs": [],
   "source": [
    "for C, gamma in itertools.product(C_values, gamma_values):\n",
    "    with mlflow.start_run():\n",
    "        model = SVC(C=C, gamma=gamma, kernel='rbf', random_state=42)\n",
    "        model.fit(X_train, y_train)\n",
    "        \n",
    "        y_pred = model.predict(X_test)\n",
    "        acc = accuracy_score(y_test, y_pred)\n",
    "        f1 = f1_score(y_test, y_pred, average='weighted')\n",
    "        cm = confusion_matrix(y_test, y_pred)\n",
    "        \n",
    "        # Log parameters and metrics\n",
    "        mlflow.log_param(\"C\", C)\n",
    "        mlflow.log_param(\"gamma\", gamma)\n",
    "        mlflow.log_metric(\"accuracy\", acc)\n",
    "        mlflow.log_metric(\"f1_score\", f1)\n",
    "        \n",
    "        # Save confusion matrix plot\n",
    "        plt.figure(figsize=(6, 5))\n",
    "        sns.heatmap(cm, annot=True, fmt='d', cmap='Blues', xticklabels=digits.target_names, yticklabels=digits.target_names)\n",
    "        plt.xlabel('Predicted')\n",
    "        plt.ylabel('Actual')\n",
    "        plt.title(f'Confusion Matrix (C={C}, gamma={gamma})')\n",
    "        cm_filename = f\"confusion_matrix_C{C}_gamma{gamma}.png\"\n",
    "        plt.savefig(cm_filename)\n",
    "        plt.close()\n",
    "        mlflow.log_artifact(cm_filename)\n",
    "        \n",
    "        # Track the best model\n",
    "        if f1 > best_f1:\n",
    "            best_f1 = f1\n",
    "            best_model = model\n",
    "            best_params = {\"C\": C, \"gamma\": gamma}\n",
    "            \n",
    "        accuracies.append(acc)\n",
    "        f1_scores.append(f1)\n",
    "        configs.append(f\"C={C}, gamma={gamma}\")\n"
   ]
  },
  {
   "cell_type": "code",
   "execution_count": 8,
   "metadata": {},
   "outputs": [
    {
     "name": "stderr",
     "output_type": "stream",
     "text": [
      "\u001b[31m2025/03/03 10:52:52 WARNING mlflow.models.model: Model logged without a signature and input example. Please set `input_example` parameter when logging the model to auto infer the model signature.\u001b[0m\n"
     ]
    }
   ],
   "source": [
    "# Save the best model\n",
    "if best_model:\n",
    "    model_filename = \"best_svm_model.pkl\"\n",
    "    joblib.dump(best_model, model_filename)\n",
    "    mlflow.sklearn.log_model(best_model, \"best_model\")\n",
    "    mlflow.log_artifact(model_filename)\n",
    "    mlflow.log_params(best_params)"
   ]
  },
  {
   "cell_type": "code",
   "execution_count": 9,
   "metadata": {},
   "outputs": [],
   "source": [
    "# Plot accuracy comparison\n",
    "plt.figure(figsize=(10, 5))\n",
    "plt.bar(configs, accuracies, color='blue', alpha=0.7)\n",
    "plt.xlabel(\"Hyperparameter Configs\")\n",
    "plt.ylabel(\"Accuracy\")\n",
    "plt.title(\"Accuracy Comparison\")\n",
    "plt.xticks(rotation=45)\n",
    "plt.savefig(\"accuracy_comparison.png\")\n",
    "mlflow.log_artifact(\"accuracy_comparison.png\")\n",
    "plt.close()"
   ]
  },
  {
   "cell_type": "code",
   "execution_count": 10,
   "metadata": {},
   "outputs": [
    {
     "name": "stdout",
     "output_type": "stream",
     "text": [
      "Best model parameters: {'C': 1, 'gamma': 0.01}\n"
     ]
    }
   ],
   "source": [
    "# Plot F1-score comparison\n",
    "plt.figure(figsize=(10, 5))\n",
    "plt.bar(configs, f1_scores, color='green', alpha=0.7)\n",
    "plt.xlabel(\"Hyperparameter Configs\")\n",
    "plt.ylabel(\"F1 Score\")\n",
    "plt.title(\"F1 Score Comparison\")\n",
    "plt.xticks(rotation=45)\n",
    "plt.savefig(\"f1_score_comparison.png\")\n",
    "mlflow.log_artifact(\"f1_score_comparison.png\")\n",
    "plt.close()\n",
    "\n",
    "print(f\"Best model parameters: {best_params}\")"
   ]
  },
  {
   "cell_type": "code",
   "execution_count": null,
   "metadata": {},
   "outputs": [],
   "source": []
  },
  {
   "cell_type": "code",
   "execution_count": null,
   "metadata": {},
   "outputs": [],
   "source": []
  }
 ],
 "metadata": {
  "kernelspec": {
   "display_name": "venv",
   "language": "python",
   "name": "python3"
  },
  "language_info": {
   "codemirror_mode": {
    "name": "ipython",
    "version": 3
   },
   "file_extension": ".py",
   "mimetype": "text/x-python",
   "name": "python",
   "nbconvert_exporter": "python",
   "pygments_lexer": "ipython3",
   "version": "3.10.12"
  }
 },
 "nbformat": 4,
 "nbformat_minor": 2
}
