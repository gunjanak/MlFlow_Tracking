{
 "cells": [
  {
   "cell_type": "code",
   "execution_count": 1,
   "metadata": {},
   "outputs": [],
   "source": [
    "from sklearn import datasets\n",
    "from sklearn.model_selection import train_test_split\n",
    "from sklearn.preprocessing import StandardScaler\n",
    "import matplotlib.pyplot as plt"
   ]
  },
  {
   "cell_type": "code",
   "execution_count": 23,
   "metadata": {},
   "outputs": [
    {
     "data": {
      "image/png": "[encoded data removed]",
      "text/plain": [
       "<Figure size 100x100 with 2 Axes>"
      ]
     },
     "metadata": {},
     "output_type": "display_data"
    }
   ],
   "source": [
    "# Load the Digits dataset\n",
    "digits = datasets.load_digits()\n",
    "X, y = digits.data, digits.target\n",
    "\n",
    "# Split the data\n",
    "X_train, X_test, y_train, y_test = train_test_split(X, y, test_size=0.2, random_state=42)\n",
    "\n",
    "# Scale the data\n",
    "scaler = StandardScaler()\n",
    "X_train = scaler.fit_transform(X_train)\n",
    "sample_index = 10\n",
    "# Get the corresponding image (before scaling)\n",
    "original_image = X_test[sample_index].reshape(8, 8)\n",
    "\n",
    "# Plot the image\n",
    "plt.figure(figsize=(1,1))\n",
    "plt.imshow(original_image, cmap='gray')\n",
    "plt.colorbar()\n",
    "plt.title(f\"Sample Digit from X_test (Index {sample_index})\")\n",
    "plt.show()\n",
    "\n"
   ]
  },
  {
   "cell_type": "code",
   "execution_count": 24,
   "metadata": {},
   "outputs": [],
   "source": [
    "X_test = scaler.transform(X_test)\n",
    "sample = X_test[sample_index]"
   ]
  },
  {
   "cell_type": "code",
   "execution_count": 25,
   "metadata": {},
   "outputs": [],
   "source": [
    "sample = sample.tolist()"
   ]
  },
  {
   "cell_type": "code",
   "execution_count": 34,
   "metadata": {},
   "outputs": [
    {
     "data": {
      "text/plain": [
       "[0.0,\n",
       " -0.34169755073421876,\n",
       " -0.2553476759720461,\n",
       " 0.041578703534255766,\n",
       " 0.2593082604212995,\n",
       " -0.5045262047991629,\n",
       " -0.4062342356040381,\n",
       " -0.13101874173265585,\n",
       " -0.061034923875429754,\n",
       " -0.6172540249299023,\n",
       " -0.6080578180904421,\n",
       " 0.5040308740861628,\n",
       " 1.18250095573049,\n",
       " 0.11623264591309596,\n",
       " -0.5246550463811435,\n",
       " -0.13336004833930848,\n",
       " -0.04991521613769651,\n",
       " -0.7186458239734853,\n",
       " -1.7135505739135841,\n",
       " 0.8316499068244146,\n",
       " 1.441142808024228,\n",
       " 0.013881615889170147,\n",
       " -0.552537004519684,\n",
       " -0.11409248204199549,\n",
       " -0.03733266964732785,\n",
       " -0.7701915930681215,\n",
       " -1.4488048921692886,\n",
       " -0.48697794625920005,\n",
       " 0.9877791098189055,\n",
       " -0.2633566333638822,\n",
       " -0.6255487243927981,\n",
       " -0.04573893537463453,\n",
       " 0.0,\n",
       " -0.6554764207327821,\n",
       " -1.1960781763357249,\n",
       " -0.013174196940218172,\n",
       " 0.9561704883954462,\n",
       " -0.4484610500163638,\n",
       " -0.8134724065202669,\n",
       " 0.0,\n",
       " -0.06519028566758817,\n",
       " -0.5200559979062301,\n",
       " -1.051220237473891,\n",
       " 0.7338291389138247,\n",
       " 1.334043491715753,\n",
       " -0.9216580012981291,\n",
       " -0.798886733214947,\n",
       " -0.09403434035891314,\n",
       " -0.03963009454234684,\n",
       " -0.4024145919851508,\n",
       " -1.3374576256508783,\n",
       " 0.6450795391026516,\n",
       " 1.245864203844095,\n",
       " -0.9752753288514711,\n",
       " -0.7637971374244856,\n",
       " -0.21608405161615074,\n",
       " -0.026388990698463018,\n",
       " -0.3067764571417011,\n",
       " -1.0842783408584284,\n",
       " 0.664063348912309,\n",
       " 0.8480438508399862,\n",
       " 0.7132585648265223,\n",
       " -0.5062308306400686,\n",
       " -0.1971000331638817]"
      ]
     },
     "execution_count": 34,
     "metadata": {},
     "output_type": "execute_result"
    }
   ],
   "source": [
    "sample"
   ]
  },
  {
   "cell_type": "code",
   "execution_count": 26,
   "metadata": {},
   "outputs": [
    {
     "data": {
      "text/plain": [
       "list"
      ]
     },
     "execution_count": 26,
     "metadata": {},
     "output_type": "execute_result"
    }
   ],
   "source": [
    "type(sample)"
   ]
  },
  {
   "cell_type": "code",
   "execution_count": 27,
   "metadata": {},
   "outputs": [
    {
     "data": {
      "text/plain": [
       "64"
      ]
     },
     "execution_count": 27,
     "metadata": {},
     "output_type": "execute_result"
    }
   ],
   "source": [
    "len(sample)"
   ]
  },
  {
   "cell_type": "code",
   "execution_count": 31,
   "metadata": {},
   "outputs": [],
   "source": [
    "import requests\n"
   ]
  },
  {
   "cell_type": "code",
   "execution_count": 32,
   "metadata": {},
   "outputs": [],
   "source": [
    "# Prepare the input\n",
    "data = {\n",
    "    \"instances\": [sample]  # The sample data\n",
    "}\n"
   ]
  },
  {
   "cell_type": "code",
   "execution_count": 30,
   "metadata": {},
   "outputs": [
    {
     "name": "stdout",
     "output_type": "stream",
     "text": [
      "Prediction: {'predictions': [1]}\n"
     ]
    }
   ],
   "source": [
    "# Send the request\n",
    "url = \"http://localhost:1234/invocations\"\n",
    "headers = {\"Content-Type\": \"application/json\"}\n",
    "response = requests.post(url, json=data, headers=headers)\n",
    "\n",
    "# Print the prediction\n",
    "if response.status_code == 200:\n",
    "    print(\"Prediction:\", response.json())\n",
    "else:\n",
    "    print(\"Error:\", response.status_code, response.text)"
   ]
  },
  {
   "cell_type": "code",
   "execution_count": null,
   "metadata": {},
   "outputs": [],
   "source": []
  }
 ],
 "metadata": {
  "kernelspec": {
   "display_name": "venv",
   "language": "python",
   "name": "python3"
  },
  "language_info": {
   "codemirror_mode": {
    "name": "ipython",
    "version": 3
   },
   "file_extension": ".py",
   "mimetype": "text/x-python",
   "name": "python",
   "nbconvert_exporter": "python",
   "pygments_lexer": "ipython3",
   "version": "3.10.12"
  }
 },
 "nbformat": 4,
 "nbformat_minor": 2
}
